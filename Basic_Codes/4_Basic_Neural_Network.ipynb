{
 "cells": [
  {
   "cell_type": "code",
   "execution_count": 49,
   "metadata": {},
   "outputs": [],
   "source": [
    "import numpy as np\n",
    "import tensorflow as tf\n",
    "import matplotlib.pyplot as plt\n",
    "import seaborn as sns\n",
    "sns.set_style('whitegrid')"
   ]
  },
  {
   "cell_type": "code",
   "execution_count": 18,
   "metadata": {},
   "outputs": [],
   "source": [
    "sess = tf.InteractiveSession()"
   ]
  },
  {
   "cell_type": "code",
   "execution_count": 2,
   "metadata": {},
   "outputs": [],
   "source": [
    "np.random.seed(101)\n",
    "tf.set_random_seed(101)"
   ]
  },
  {
   "cell_type": "code",
   "execution_count": 13,
   "metadata": {},
   "outputs": [
    {
     "data": {
      "text/plain": [
       "array([[98.73127505,  2.33054924, 54.80804459, 56.09078944,  7.47546877],\n",
       "       [89.2271009 , 11.06229115, 62.5773451 , 10.08496185, 71.08527892],\n",
       "       [88.13295051, 69.5289963 , 26.6172699 , 90.99637999, 57.96183625],\n",
       "       [35.9686895 , 85.26342377, 24.61792126, 78.04441055,  4.55096612],\n",
       "       [88.50411885, 27.64212207, 58.09244012, 91.06622627, 99.25910465]])"
      ]
     },
     "execution_count": 13,
     "metadata": {},
     "output_type": "execute_result"
    }
   ],
   "source": [
    "rand_a = np.random.uniform(0, 100, [5, 5])\n",
    "rand_a"
   ]
  },
  {
   "cell_type": "code",
   "execution_count": 25,
   "metadata": {},
   "outputs": [
    {
     "data": {
      "text/plain": [
       "array([[26.41616298, 64.72134808, 46.29853964, 63.10071521, 51.12362996],\n",
       "       [22.23808858, 73.44953888, 79.96613662, 87.66216587, 30.26238018],\n",
       "       [60.92716651,  8.50010836, 31.91778261, 81.54992171, 87.24064209],\n",
       "       [89.07075521, 68.99099023, 91.59605446, 40.71952725, 16.26102882],\n",
       "       [18.40911037, 22.37712103,  0.11886612, 22.67816889, 93.09794167]])"
      ]
     },
     "execution_count": 25,
     "metadata": {},
     "output_type": "execute_result"
    }
   ],
   "source": [
    "rand_b = np.random.uniform(0, 100, [5, 5])\n",
    "rand_b"
   ]
  },
  {
   "cell_type": "code",
   "execution_count": 26,
   "metadata": {},
   "outputs": [],
   "source": [
    "a = tf.placeholder(tf.float32)\n",
    "b = tf.placeholder(tf.float32)"
   ]
  },
  {
   "cell_type": "code",
   "execution_count": 27,
   "metadata": {},
   "outputs": [],
   "source": [
    "op_add = a + b\n",
    "op_mult = a * b"
   ]
  },
  {
   "cell_type": "code",
   "execution_count": 29,
   "metadata": {},
   "outputs": [
    {
     "name": "stdout",
     "output_type": "stream",
     "text": [
      "[[125.14744   67.0519   101.10658  119.191505  58.5991  ]\n",
      " [111.465195  84.51183  142.54349   97.74712  101.347664]\n",
      " [149.06012   78.029106  58.53505  172.5463   145.20248 ]\n",
      " [125.039444 154.25441  116.213974 118.76394   20.811995]\n",
      " [106.91323   50.01924   58.211308 113.74439  192.35704 ]]\n"
     ]
    }
   ],
   "source": [
    "print(sess.run(op_add, feed_dict = {a: rand_a, b: rand_b}))"
   ]
  },
  {
   "cell_type": "code",
   "execution_count": 30,
   "metadata": {},
   "outputs": [
    {
     "name": "stdout",
     "output_type": "stream",
     "text": [
      "[[2.6081016e+03 1.5083630e+02 2.5375322e+03 3.5393689e+03 3.8217310e+02]\n",
      " [1.9842402e+03 8.1252020e+02 5.0040684e+03 8.8406958e+02 2.1512100e+03]\n",
      " [5.3696909e+03 5.9100403e+02 8.4956421e+02 7.4207476e+03 5.0566279e+03]\n",
      " [3.2037583e+03 5.8824077e+03 2.2549045e+03 3.1779316e+03 7.4003387e+01]\n",
      " [1.6292822e+03 6.1855109e+02 6.9052234e+00 2.0652153e+03 9.2408174e+03]]\n"
     ]
    }
   ],
   "source": [
    "print(sess.run(op_mult, feed_dict = {a: rand_a, b: rand_b}))"
   ]
  },
  {
   "cell_type": "markdown",
   "metadata": {},
   "source": [
    "# Example Neural Network"
   ]
  },
  {
   "cell_type": "code",
   "execution_count": 31,
   "metadata": {},
   "outputs": [],
   "source": [
    "n_features = 10\n",
    "n_dense_neurons = 3"
   ]
  },
  {
   "cell_type": "code",
   "execution_count": 32,
   "metadata": {},
   "outputs": [],
   "source": [
    "x = tf.placeholder(tf.float32, [None, n_features])"
   ]
  },
  {
   "cell_type": "code",
   "execution_count": 33,
   "metadata": {},
   "outputs": [],
   "source": [
    "w = tf.Variable(tf.random_normal([n_features, n_dense_neurons]))\n",
    "b = tf.Variable(tf.ones([n_dense_neurons]))"
   ]
  },
  {
   "cell_type": "code",
   "execution_count": 34,
   "metadata": {},
   "outputs": [],
   "source": [
    "mult = tf.matmul(x, w)\n",
    "add = tf.add(mult, b)\n",
    "z = tf.sigmoid(add)"
   ]
  },
  {
   "cell_type": "code",
   "execution_count": 36,
   "metadata": {},
   "outputs": [
    {
     "data": {
      "text/plain": [
       "array([[0.7510842 , 0.86174095, 0.96677935]], dtype=float32)"
      ]
     },
     "execution_count": 36,
     "metadata": {},
     "output_type": "execute_result"
    }
   ],
   "source": [
    "sess.run(tf.global_variables_initializer())\n",
    "sess.run(z, feed_dict = {x: np.random.random([1, n_features])})"
   ]
  },
  {
   "cell_type": "markdown",
   "metadata": {},
   "source": [
    "# Simple Regression"
   ]
  },
  {
   "cell_type": "code",
   "execution_count": 47,
   "metadata": {},
   "outputs": [
    {
     "data": {
      "text/plain": [
       "array([ 2.33035115,  1.93346077,  1.592531  ,  4.27635851,  4.51031961,\n",
       "        6.01242343,  5.57123802,  7.43490911, 10.07266948,  9.71787039])"
      ]
     },
     "execution_count": 47,
     "metadata": {},
     "output_type": "execute_result"
    }
   ],
   "source": [
    "x = np.linspace(1, 10, 10) + np.random.uniform(-1.5, 1.5, 10)\n",
    "x"
   ]
  },
  {
   "cell_type": "code",
   "execution_count": 48,
   "metadata": {},
   "outputs": [
    {
     "data": {
      "text/plain": [
       "array([1.22766708, 2.57347119, 4.09155222, 5.00054033, 5.80406947,\n",
       "       5.36001089, 6.41747329, 8.97771188, 9.21222635, 9.24439096])"
      ]
     },
     "execution_count": 48,
     "metadata": {},
     "output_type": "execute_result"
    }
   ],
   "source": [
    "y = np.linspace(1, 10, 10) + np.random.uniform(-1.5, 1.5, 10)\n",
    "y"
   ]
  },
  {
   "cell_type": "code",
   "execution_count": 55,
   "metadata": {},
   "outputs": [
    {
     "data": {
      "text/plain": [
       "<matplotlib.collections.PathCollection at 0xcee2985c0>"
      ]
     },
     "execution_count": 55,
     "metadata": {},
     "output_type": "execute_result"
    },
    {
     "data": {
      "image/png": "[encoded data removed]",
      "text/plain": [
       "<Figure size 432x288 with 1 Axes>"
      ]
     },
     "metadata": {},
     "output_type": "display_data"
    }
   ],
   "source": [
    "plt.scatter(x, y)"
   ]
  },
  {
   "cell_type": "markdown",
   "metadata": {},
   "source": [
    "y = wx + b"
   ]
  },
  {
   "cell_type": "code",
   "execution_count": 56,
   "metadata": {},
   "outputs": [],
   "source": [
    "w = tf.Variable(0.40)\n",
    "b = tf.Variable(0.80)"
   ]
  },
  {
   "cell_type": "code",
   "execution_count": 59,
   "metadata": {},
   "outputs": [],
   "source": [
    "error = 0\n",
    "for i, j in zip(x, y):\n",
    "    \n",
    "    y_hat = w*i + b\n",
    "    \n",
    "    error += (y_hat - j)**2"
   ]
  },
  {
   "cell_type": "code",
   "execution_count": 61,
   "metadata": {},
   "outputs": [],
   "source": [
    "optimizer = tf.train.GradientDescentOptimizer(learning_rate=0.001)\n",
    "train_step = optimizer.minimize(error)"
   ]
  },
  {
   "cell_type": "code",
   "execution_count": 62,
   "metadata": {},
   "outputs": [],
   "source": [
    "sess.run(tf.global_variables_initializer())"
   ]
  },
  {
   "cell_type": "code",
   "execution_count": 63,
   "metadata": {},
   "outputs": [],
   "source": [
    "iterations = 100\n",
    "for i in range(iterations):\n",
    "    sess.run(train_step)"
   ]
  },
  {
   "cell_type": "code",
   "execution_count": 66,
   "metadata": {},
   "outputs": [
    {
     "name": "stdout",
     "output_type": "stream",
     "text": [
      "Final Weight = 0.8802656\n",
      "Final Intercept = 1.0253615\n"
     ]
    }
   ],
   "source": [
    "print(\"Final Weight = \"+str(sess.run(w)))\n",
    "print(\"Final Intercept = \"+str(sess.run(b)))"
   ]
  },
  {
   "cell_type": "code",
   "execution_count": 67,
   "metadata": {},
   "outputs": [],
   "source": [
    "weight_final = sess.run(w)\n",
    "intercept_final = sess.run(b)"
   ]
  },
  {
   "cell_type": "code",
   "execution_count": 77,
   "metadata": {},
   "outputs": [
    {
     "data": {
      "text/plain": [
       "array([ 1.90562713,  2.88370001,  3.86177289,  4.83984578,  5.81791866,\n",
       "        6.79599154,  7.77406442,  8.7521373 ,  9.73021019, 10.70828307])"
      ]
     },
     "execution_count": 77,
     "metadata": {},
     "output_type": "execute_result"
    }
   ],
   "source": [
    "x_test = np.linspace(1, 11, 10)\n",
    "\n",
    "y_testPred = weight_final*x_test + intercept_final\n",
    "\n",
    "y_testPred"
   ]
  },
  {
   "cell_type": "code",
   "execution_count": 78,
   "metadata": {},
   "outputs": [
    {
     "data": {
      "text/plain": [
       "[<matplotlib.lines.Line2D at 0xcef3d9fd0>]"
      ]
     },
     "execution_count": 78,
     "metadata": {},
     "output_type": "execute_result"
    },
    {
     "data": {
      "image/png": "[encoded data removed]",
      "text/plain": [
       "<Figure size 432x288 with 1 Axes>"
      ]
     },
     "metadata": {},
     "output_type": "display_data"
    }
   ],
   "source": [
    "plt.plot(x_test, y_testPred, 'blue')\n",
    "plt.plot(x, y, '*')"
   ]
  }
 ],
 "metadata": {
  "kernelspec": {
   "display_name": "Python 3",
   "language": "python",
   "name": "python3"
  },
  "language_info": {
   "codemirror_mode": {
    "name": "ipython",
    "version": 3
   },
   "file_extension": ".py",
   "mimetype": "text/x-python",
   "name": "python",
   "nbconvert_exporter": "python",
   "pygments_lexer": "ipython3",
   "version": "3.6.5"
  }
 },
 "nbformat": 4,
 "nbformat_minor": 2
}
